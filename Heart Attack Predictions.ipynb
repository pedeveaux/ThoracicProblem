{
 "cells": [
  {
   "cell_type": "markdown",
   "metadata": {},
   "source": [
    "## Heart Attack Predictions\n",
    "William Hoppes\n",
    "March 19, 2018\n",
    "Today we’re going to diagnose heart disease!\n",
    "\n",
    "Specifically we’re looking at data on heart attacks from Cleveland in 1988. Patients would come in either with heart pain (angina) or some other concern. Doctors took information from the patient, then hooked them up to electrodes and made them run on a treadmill and measured the results.\n",
    "\n",
    "\n",
    "Based on these results, we want to determine whether the patient has a heart disease. Note that, probably for insurance/liability reasons, we don’t care how serious the heart disease is.\n",
    "\n",
    "Our final product should be a machine learning algorithm that takes in patient data and delivers a diagnosis of “Heart Disease” or “No Heart Disease” and it should be as accurate as possible.\n",
    "\n",
    "So let’s start by looking at our raw data."
   ]
  },
  {
   "cell_type": "code",
   "execution_count": 2,
   "metadata": {},
   "outputs": [
    {
     "data": {
      "text/html": [
       "<table>\n",
       "<thead><tr><th scope=col>V1</th><th scope=col>V2</th><th scope=col>V3</th><th scope=col>V4</th><th scope=col>V5</th><th scope=col>V6</th><th scope=col>V7</th><th scope=col>V8</th><th scope=col>V9</th><th scope=col>V10</th><th scope=col>V11</th><th scope=col>V12</th><th scope=col>V13</th><th scope=col>V14</th></tr></thead>\n",
       "<tbody>\n",
       "\t<tr><td>63 </td><td>1  </td><td>1  </td><td>145</td><td>233</td><td>1  </td><td>2  </td><td>150</td><td>0  </td><td>2.3</td><td>3  </td><td>0.0</td><td>6.0</td><td>0  </td></tr>\n",
       "\t<tr><td>67 </td><td>1  </td><td>4  </td><td>160</td><td>286</td><td>0  </td><td>2  </td><td>108</td><td>1  </td><td>1.5</td><td>2  </td><td>3.0</td><td>3.0</td><td>2  </td></tr>\n",
       "\t<tr><td>67 </td><td>1  </td><td>4  </td><td>120</td><td>229</td><td>0  </td><td>2  </td><td>129</td><td>1  </td><td>2.6</td><td>2  </td><td>2.0</td><td>7.0</td><td>1  </td></tr>\n",
       "\t<tr><td>37 </td><td>1  </td><td>3  </td><td>130</td><td>250</td><td>0  </td><td>0  </td><td>187</td><td>0  </td><td>3.5</td><td>3  </td><td>0.0</td><td>3.0</td><td>0  </td></tr>\n",
       "\t<tr><td>41 </td><td>0  </td><td>2  </td><td>130</td><td>204</td><td>0  </td><td>2  </td><td>172</td><td>0  </td><td>1.4</td><td>1  </td><td>0.0</td><td>3.0</td><td>0  </td></tr>\n",
       "\t<tr><td>56 </td><td>1  </td><td>2  </td><td>120</td><td>236</td><td>0  </td><td>0  </td><td>178</td><td>0  </td><td>0.8</td><td>1  </td><td>0.0</td><td>3.0</td><td>0  </td></tr>\n",
       "\t<tr><td>62 </td><td>0  </td><td>4  </td><td>140</td><td>268</td><td>0  </td><td>2  </td><td>160</td><td>0  </td><td>3.6</td><td>3  </td><td>2.0</td><td>3.0</td><td>3  </td></tr>\n",
       "\t<tr><td>57 </td><td>0  </td><td>4  </td><td>120</td><td>354</td><td>0  </td><td>0  </td><td>163</td><td>1  </td><td>0.6</td><td>1  </td><td>0.0</td><td>3.0</td><td>0  </td></tr>\n",
       "\t<tr><td>63 </td><td>1  </td><td>4  </td><td>130</td><td>254</td><td>0  </td><td>2  </td><td>147</td><td>0  </td><td>1.4</td><td>2  </td><td>1.0</td><td>7.0</td><td>2  </td></tr>\n",
       "\t<tr><td>53 </td><td>1  </td><td>4  </td><td>140</td><td>203</td><td>1  </td><td>2  </td><td>155</td><td>1  </td><td>3.1</td><td>3  </td><td>0.0</td><td>7.0</td><td>1  </td></tr>\n",
       "</tbody>\n",
       "</table>\n"
      ],
      "text/latex": [
       "\\begin{tabular}{r|llllllllllllll}\n",
       " V1 & V2 & V3 & V4 & V5 & V6 & V7 & V8 & V9 & V10 & V11 & V12 & V13 & V14\\\\\n",
       "\\hline\n",
       "\t 63  & 1   & 1   & 145 & 233 & 1   & 2   & 150 & 0   & 2.3 & 3   & 0.0 & 6.0 & 0  \\\\\n",
       "\t 67  & 1   & 4   & 160 & 286 & 0   & 2   & 108 & 1   & 1.5 & 2   & 3.0 & 3.0 & 2  \\\\\n",
       "\t 67  & 1   & 4   & 120 & 229 & 0   & 2   & 129 & 1   & 2.6 & 2   & 2.0 & 7.0 & 1  \\\\\n",
       "\t 37  & 1   & 3   & 130 & 250 & 0   & 0   & 187 & 0   & 3.5 & 3   & 0.0 & 3.0 & 0  \\\\\n",
       "\t 41  & 0   & 2   & 130 & 204 & 0   & 2   & 172 & 0   & 1.4 & 1   & 0.0 & 3.0 & 0  \\\\\n",
       "\t 56  & 1   & 2   & 120 & 236 & 0   & 0   & 178 & 0   & 0.8 & 1   & 0.0 & 3.0 & 0  \\\\\n",
       "\t 62  & 0   & 4   & 140 & 268 & 0   & 2   & 160 & 0   & 3.6 & 3   & 2.0 & 3.0 & 3  \\\\\n",
       "\t 57  & 0   & 4   & 120 & 354 & 0   & 0   & 163 & 1   & 0.6 & 1   & 0.0 & 3.0 & 0  \\\\\n",
       "\t 63  & 1   & 4   & 130 & 254 & 0   & 2   & 147 & 0   & 1.4 & 2   & 1.0 & 7.0 & 2  \\\\\n",
       "\t 53  & 1   & 4   & 140 & 203 & 1   & 2   & 155 & 1   & 3.1 & 3   & 0.0 & 7.0 & 1  \\\\\n",
       "\\end{tabular}\n"
      ],
      "text/markdown": [
       "\n",
       "V1 | V2 | V3 | V4 | V5 | V6 | V7 | V8 | V9 | V10 | V11 | V12 | V13 | V14 | \n",
       "|---|---|---|---|---|---|---|---|---|---|\n",
       "| 63  | 1   | 1   | 145 | 233 | 1   | 2   | 150 | 0   | 2.3 | 3   | 0.0 | 6.0 | 0   | \n",
       "| 67  | 1   | 4   | 160 | 286 | 0   | 2   | 108 | 1   | 1.5 | 2   | 3.0 | 3.0 | 2   | \n",
       "| 67  | 1   | 4   | 120 | 229 | 0   | 2   | 129 | 1   | 2.6 | 2   | 2.0 | 7.0 | 1   | \n",
       "| 37  | 1   | 3   | 130 | 250 | 0   | 0   | 187 | 0   | 3.5 | 3   | 0.0 | 3.0 | 0   | \n",
       "| 41  | 0   | 2   | 130 | 204 | 0   | 2   | 172 | 0   | 1.4 | 1   | 0.0 | 3.0 | 0   | \n",
       "| 56  | 1   | 2   | 120 | 236 | 0   | 0   | 178 | 0   | 0.8 | 1   | 0.0 | 3.0 | 0   | \n",
       "| 62  | 0   | 4   | 140 | 268 | 0   | 2   | 160 | 0   | 3.6 | 3   | 2.0 | 3.0 | 3   | \n",
       "| 57  | 0   | 4   | 120 | 354 | 0   | 0   | 163 | 1   | 0.6 | 1   | 0.0 | 3.0 | 0   | \n",
       "| 63  | 1   | 4   | 130 | 254 | 0   | 2   | 147 | 0   | 1.4 | 2   | 1.0 | 7.0 | 2   | \n",
       "| 53  | 1   | 4   | 140 | 203 | 1   | 2   | 155 | 1   | 3.1 | 3   | 0.0 | 7.0 | 1   | \n",
       "\n",
       "\n"
      ],
      "text/plain": [
       "   V1 V2 V3 V4  V5  V6 V7 V8  V9 V10 V11 V12 V13 V14\n",
       "1  63 1  1  145 233 1  2  150 0  2.3 3   0.0 6.0 0  \n",
       "2  67 1  4  160 286 0  2  108 1  1.5 2   3.0 3.0 2  \n",
       "3  67 1  4  120 229 0  2  129 1  2.6 2   2.0 7.0 1  \n",
       "4  37 1  3  130 250 0  0  187 0  3.5 3   0.0 3.0 0  \n",
       "5  41 0  2  130 204 0  2  172 0  1.4 1   0.0 3.0 0  \n",
       "6  56 1  2  120 236 0  0  178 0  0.8 1   0.0 3.0 0  \n",
       "7  62 0  4  140 268 0  2  160 0  3.6 3   2.0 3.0 3  \n",
       "8  57 0  4  120 354 0  0  163 1  0.6 1   0.0 3.0 0  \n",
       "9  63 1  4  130 254 0  2  147 0  1.4 2   1.0 7.0 2  \n",
       "10 53 1  4  140 203 1  2  155 1  3.1 3   0.0 7.0 1  "
      ]
     },
     "metadata": {},
     "output_type": "display_data"
    }
   ],
   "source": [
    "heartAttack_raw<-read.csv(\"https://archive.ics.uci.edu/ml/machine-learning-databases/heart-disease/processed.cleveland.data\",header=F)\n",
    "\n",
    "head(heartAttack_raw, 10)"
   ]
  },
  {
   "cell_type": "markdown",
   "metadata": {},
   "source": [
    "Uggggllly!\n",
    "\n",
    "So before we even look at the data, we need to clean it up so we know what we’re looking at. This involves going through the ‘Data Set Description’ that came with the dataset and manually change the values, ie data munging/cleaning.\n",
    "\n",
    "So let’s start with what our variables are. According to the data set description, we have 14 variables:\n",
    "\n",
    "Age\n",
    "Sex/Gender\n",
    "Chest pain\n",
    "Chest pain has four different values: typical angina, atypical angina, non-anginal pain, and asymptomatic.\n",
    "\n",
    "Resting Blood Pressure\n",
    "Cholesterol\n",
    "Fasting Blood Sugar > 120 mg/dl\n",
    "This is T/F\n",
    "\n",
    "Resting Electrocardiographic Results\n",
    "Three different values: Normal, ST-T Wave Abnormality, Probable or definite left ventricular hypertrohpy by Estes’ criteria\n",
    "\n",
    "Maximum Heart Rate Achieved\n",
    "Exercise Induced Angina\n",
    "This is T/F\n",
    "\n",
    "ST depression induced by exercise relative to rest\n",
    "Slope of the Peak Exercise Segment\n",
    "Number of Major Vessels (0-3) colored by flourosopy\n",
    "Thal\n",
    "Three different values: normal, fixed defect, and reversable defect.\n",
    "\n",
    "Diagnosis\n",
    "At this point we need to make a call as to what data to include.\n",
    "\n",
    "To provide some context, the full data set has 76 variables. Most studies use the set of 14 variables listed above but that mean 62 variables were cut out.\n",
    "\n",
    "Discussion: Should we use all the variables? Only some? If so, which ones?\n",
    ".\n",
    ".\n",
    ".\n",
    ".\n",
    ".\n",
    ".\n",
    ".\n",
    ".\n",
    ".\n",
    "\n",
    "So when I did this, I decided to cut out ST deperession induced by exercise, Slope of Peak, Number of Major Vessels colored, and Thal. This was done because I just didn’t know what these were and I’m uncomfortable including any data that I don’t understand.\n",
    "\n",
    "Cleaning code:"
   ]
  },
  {
   "cell_type": "code",
   "execution_count": 3,
   "metadata": {},
   "outputs": [],
   "source": [
    "colnames(heartAttack_raw)<-c(\"Age\", \"Sex\", \"Chest_Pain_Type\", \n",
    "                         \"Resting _Blood_Pressure\", \"Cholesterol\",\n",
    "                         \"Fasting_Blood_Sugar120\", \n",
    "                         \"Resting_Electrocardiographic_Results\",\n",
    "                         \"Maximum_Heart_Rate\", \"Exercise_Induced_Angina\",\n",
    "                         \"oldpeak\", \"slope\", \"N_Heart_Vessels_Flourosopy\", \"thal\", \n",
    "                         \"Diagnosis\")\n",
    "\n",
    "#Cut\n",
    "heartAttack<-heartAttack_raw[,c(1:9,14)]\n",
    "\n",
    "#Base Cleaning\n",
    "heartAttack$Sex<-factor(heartAttack$Sex, levels=c(0,1), labels=c(\"Female\", \"Male\"))\n",
    "heartAttack$Chest_Pain_Type<-factor(heartAttack$Chest_Pain_Type,\n",
    "                                    levels=c(1,2,3,4), \n",
    "                                    labels=c(\"Typical_Angina\", \"Atypical_Angina\", \n",
    "                                             \"Non-anginal_Pain\", \"Asymptomatic\"))\n",
    "heartAttack$Resting_Electrocardiographic_Results<-factor(heartAttack$Resting_Electrocardiographic_Results,\n",
    "                                                         levels=c(0,1,2),\n",
    "                                                         labels=c(\"Normal\", \"ST-T_Wave_Abnormality\", \n",
    "                                                                  \"Probable_Hypertrophy\"))\n",
    "\n",
    "heartAttack$Fasting_Blood_Sugar120<-as.logical(heartAttack$Fasting_Blood_Sugar120)\n",
    "heartAttack$Exercise_Induced_Angina<-as.logical(heartAttack$Exercise_Induced_Angina)\n",
    "heartAttack$Diagnosis<-heartAttack$Diagnosis>0"
   ]
  },
  {
   "cell_type": "markdown",
   "metadata": {},
   "source": [
    "You can use lasso regression to determine relevant problems. Similar to regularization minmizes absolute value. "
   ]
  }
 ],
 "metadata": {
  "kernelspec": {
   "display_name": "R [conda env:My_R]",
   "language": "R",
   "name": "conda-env-My_R-r"
  },
  "language_info": {
   "codemirror_mode": "r",
   "file_extension": ".r",
   "mimetype": "text/x-r-source",
   "name": "R",
   "pygments_lexer": "r",
   "version": "3.4.2"
  }
 },
 "nbformat": 4,
 "nbformat_minor": 2
}
